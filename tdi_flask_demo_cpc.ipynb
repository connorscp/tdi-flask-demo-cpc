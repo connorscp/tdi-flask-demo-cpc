{
 "cells": [
  {
   "cell_type": "code",
   "execution_count": 13,
   "metadata": {
    "collapsed": false
   },
   "outputs": [],
   "source": [
    "import requests\n",
    "import datetime\n",
    "from dateutil import relativedelta\n",
    "import simplejson as json\n",
    "import pandas as pd\n",
    "from io import StringIO\n",
    "from bokeh.plotting import figure, show\n",
    "from bokeh.io import output_notebook"
   ]
  },
  {
   "cell_type": "code",
   "execution_count": 2,
   "metadata": {
    "collapsed": false
   },
   "outputs": [
    {
     "name": "stdout",
     "output_type": "stream",
     "text": [
      "goog\n",
      "GOOG\n"
     ]
    }
   ],
   "source": [
    "stock_ticker = raw_input()\n",
    "stock_ticker = stock_ticker.upper()\n",
    "print stock_ticker"
   ]
  },
  {
   "cell_type": "code",
   "execution_count": 3,
   "metadata": {
    "collapsed": false
   },
   "outputs": [],
   "source": [
    "# Set start_date as one month previous from today's date\n",
    "now = datetime.datetime.now()\n",
    "start_date = now + dateutil.relativedelta.relativedelta(months=-1)\n",
    "start_date = start_date.strftime(\"%Y-%m-%d\")\n",
    "#print start_date\n",
    "\n",
    "heroku_app_name = 'tdi-flask-demo-cpc'\n",
    "database_name = 'WIKI'\n",
    "api_key = '5CEVL-yKc5ufDbaeau8A'"
   ]
  },
  {
   "cell_type": "code",
   "execution_count": 4,
   "metadata": {
    "collapsed": false
   },
   "outputs": [
    {
     "name": "stdout",
     "output_type": "stream",
     "text": [
      "         Date   Close\n",
      "0  2016-06-03  722.34\n",
      "1  2016-06-02  730.40\n",
      "2  2016-06-01  734.15\n",
      "3  2016-05-31  735.72\n",
      "4  2016-05-27  732.66\n",
      "5  2016-05-26  724.12\n",
      "6  2016-05-25  725.27\n",
      "7  2016-05-24  720.09\n",
      "8  2016-05-23  704.24\n",
      "9  2016-05-20  709.74\n",
      "10 2016-05-19  700.32\n",
      "11 2016-05-18  706.63\n",
      "12 2016-05-17  706.23\n",
      "13 2016-05-16  716.49\n",
      "14 2016-05-13  710.83\n",
      "15 2016-05-12  713.31\n",
      "16 2016-05-11  715.29\n",
      "17 2016-05-10  723.18\n",
      "18 2016-05-09  712.90\n",
      "19 2016-05-06  711.12\n",
      "20 2016-05-05  701.43\n"
     ]
    }
   ],
   "source": [
    "# Call Quandl API to get csv of Date and stock Close for date range and put in dataframe\n",
    "response = requests.get('https://www.quandl.com/api/v3/datasets/'+database_name+'/'+stock_ticker\n",
    "                        +'.csv?api_key='+api_key+'&start_date='+start_date+'%column_index=0&column_index=4')\n",
    "#print response.content\n",
    "\n",
    "stocks = pd.read_csv(StringIO(response.text), parse_dates=[0])\n",
    "print stocks"
   ]
  },
  {
   "cell_type": "code",
   "execution_count": 5,
   "metadata": {
    "collapsed": false
   },
   "outputs": [
    {
     "data": {
      "text/html": [
       "\n",
       "    <div class=\"bk-banner\">\n",
       "        <a href=\"http://bokeh.pydata.org\" target=\"_blank\" class=\"bk-logo bk-logo-small bk-logo-notebook\"></a>\n",
       "        <span id=\"7c716087-b988-443d-9dd3-ae56330dea0e\">Loading BokehJS ...</span>\n",
       "    </div>"
      ]
     },
     "metadata": {},
     "output_type": "display_data"
    },
    {
     "data": {
      "application/javascript": [
       "\n",
       "(function(global) {\n",
       "  function now() {\n",
       "    return new Date();\n",
       "  }\n",
       "\n",
       "  if (typeof (window._bokeh_onload_callbacks) === \"undefined\") {\n",
       "    window._bokeh_onload_callbacks = [];\n",
       "  }\n",
       "\n",
       "  function run_callbacks() {\n",
       "    window._bokeh_onload_callbacks.forEach(function(callback) { callback() });\n",
       "    delete window._bokeh_onload_callbacks\n",
       "    console.info(\"Bokeh: all callbacks have finished\");\n",
       "  }\n",
       "\n",
       "  function load_libs(js_urls, callback) {\n",
       "    window._bokeh_onload_callbacks.push(callback);\n",
       "    if (window._bokeh_is_loading > 0) {\n",
       "      console.log(\"Bokeh: BokehJS is being loaded, scheduling callback at\", now());\n",
       "      return null;\n",
       "    }\n",
       "    if (js_urls == null || js_urls.length === 0) {\n",
       "      run_callbacks();\n",
       "      return null;\n",
       "    }\n",
       "    console.log(\"Bokeh: BokehJS not loaded, scheduling load and callback at\", now());\n",
       "    window._bokeh_is_loading = js_urls.length;\n",
       "    for (var i = 0; i < js_urls.length; i++) {\n",
       "      var url = js_urls[i];\n",
       "      var s = document.createElement('script');\n",
       "      s.src = url;\n",
       "      s.async = false;\n",
       "      s.onreadystatechange = s.onload = function() {\n",
       "        window._bokeh_is_loading--;\n",
       "        if (window._bokeh_is_loading === 0) {\n",
       "          console.log(\"Bokeh: all BokehJS libraries loaded\");\n",
       "          run_callbacks()\n",
       "        }\n",
       "      };\n",
       "      s.onerror = function() {\n",
       "        console.warn(\"failed to load library \" + url);\n",
       "      };\n",
       "      console.log(\"Bokeh: injecting script tag for BokehJS library: \", url);\n",
       "      document.getElementsByTagName(\"head\")[0].appendChild(s);\n",
       "    }\n",
       "  };\n",
       "\n",
       "  var js_urls = ['https://cdn.pydata.org/bokeh/release/bokeh-0.11.1.min.js', 'https://cdn.pydata.org/bokeh/release/bokeh-widgets-0.11.1.min.js', 'https://cdn.pydata.org/bokeh/release/bokeh-compiler-0.11.1.min.js'];\n",
       "\n",
       "  var inline_js = [\n",
       "    function(Bokeh) {\n",
       "      Bokeh.set_log_level(\"info\");\n",
       "    },\n",
       "    \n",
       "    function(Bokeh) {\n",
       "      Bokeh.$(\"#7c716087-b988-443d-9dd3-ae56330dea0e\").text(\"BokehJS successfully loaded\");\n",
       "    },\n",
       "    function(Bokeh) {\n",
       "      console.log(\"Bokeh: injecting CSS: https://cdn.pydata.org/bokeh/release/bokeh-0.11.1.min.css\");\n",
       "      Bokeh.embed.inject_css(\"https://cdn.pydata.org/bokeh/release/bokeh-0.11.1.min.css\");\n",
       "      console.log(\"Bokeh: injecting CSS: https://cdn.pydata.org/bokeh/release/bokeh-widgets-0.11.1.min.css\");\n",
       "      Bokeh.embed.inject_css(\"https://cdn.pydata.org/bokeh/release/bokeh-widgets-0.11.1.min.css\");\n",
       "    }\n",
       "  ];\n",
       "\n",
       "  function run_inline_js() {\n",
       "    for (var i = 0; i < inline_js.length; i++) {\n",
       "      inline_js[i](window.Bokeh);\n",
       "    }\n",
       "  }\n",
       "\n",
       "  if (window._bokeh_is_loading === 0) {\n",
       "    console.log(\"Bokeh: BokehJS loaded, going straight to plotting\");\n",
       "    run_inline_js();\n",
       "  } else {\n",
       "    load_libs(js_urls, function() {\n",
       "      console.log(\"Bokeh: BokehJS plotting callback run at\", now());\n",
       "      run_inline_js();\n",
       "    });\n",
       "  }\n",
       "}(this));"
      ]
     },
     "metadata": {},
     "output_type": "display_data"
    }
   ],
   "source": [
    "output_notebook()"
   ]
  },
  {
   "cell_type": "code",
   "execution_count": 11,
   "metadata": {
    "collapsed": false
   },
   "outputs": [
    {
     "data": {
      "text/html": [
       "\n",
       "\n",
       "    <div class=\"plotdiv\" id=\"113ead7d-7480-4ea3-a80f-3a0ac0560770\"></div>\n",
       "<script type=\"text/javascript\">\n",
       "  \n",
       "  (function(global) {\n",
       "    function now() {\n",
       "      return new Date();\n",
       "    }\n",
       "  \n",
       "    if (typeof (window._bokeh_onload_callbacks) === \"undefined\") {\n",
       "      window._bokeh_onload_callbacks = [];\n",
       "    }\n",
       "  \n",
       "    function run_callbacks() {\n",
       "      window._bokeh_onload_callbacks.forEach(function(callback) { callback() });\n",
       "      delete window._bokeh_onload_callbacks\n",
       "      console.info(\"Bokeh: all callbacks have finished\");\n",
       "    }\n",
       "  \n",
       "    function load_libs(js_urls, callback) {\n",
       "      window._bokeh_onload_callbacks.push(callback);\n",
       "      if (window._bokeh_is_loading > 0) {\n",
       "        console.log(\"Bokeh: BokehJS is being loaded, scheduling callback at\", now());\n",
       "        return null;\n",
       "      }\n",
       "      if (js_urls == null || js_urls.length === 0) {\n",
       "        run_callbacks();\n",
       "        return null;\n",
       "      }\n",
       "      console.log(\"Bokeh: BokehJS not loaded, scheduling load and callback at\", now());\n",
       "      window._bokeh_is_loading = js_urls.length;\n",
       "      for (var i = 0; i < js_urls.length; i++) {\n",
       "        var url = js_urls[i];\n",
       "        var s = document.createElement('script');\n",
       "        s.src = url;\n",
       "        s.async = false;\n",
       "        s.onreadystatechange = s.onload = function() {\n",
       "          window._bokeh_is_loading--;\n",
       "          if (window._bokeh_is_loading === 0) {\n",
       "            console.log(\"Bokeh: all BokehJS libraries loaded\");\n",
       "            run_callbacks()\n",
       "          }\n",
       "        };\n",
       "        s.onerror = function() {\n",
       "          console.warn(\"failed to load library \" + url);\n",
       "        };\n",
       "        console.log(\"Bokeh: injecting script tag for BokehJS library: \", url);\n",
       "        document.getElementsByTagName(\"head\")[0].appendChild(s);\n",
       "      }\n",
       "    };var element = document.getElementById(\"113ead7d-7480-4ea3-a80f-3a0ac0560770\");\n",
       "    if (element == null) {\n",
       "      console.log(\"Bokeh: ERROR: autoload.js configured with elementid '113ead7d-7480-4ea3-a80f-3a0ac0560770' but no matching script tag was found. \")\n",
       "      return false;\n",
       "    }\n",
       "  \n",
       "    var js_urls = [];\n",
       "  \n",
       "    var inline_js = [\n",
       "      function(Bokeh) {\n",
       "        Bokeh.$(function() {\n",
       "            var docs_json = {\"0420b59f-de0f-4faa-a6fd-45567d66d202\":{\"roots\":{\"references\":[{\"attributes\":{},\"id\":\"684794cc-66f6-4e0f-8a5f-118c15af59a6\",\"type\":\"BasicTickFormatter\"},{\"attributes\":{},\"id\":\"4e1089ee-c5f0-483c-b28a-efb98b2e80aa\",\"type\":\"BasicTicker\"},{\"attributes\":{\"max_interval\":500.0,\"num_minor_ticks\":0},\"id\":\"b29d2b89-7768-4d9e-ae7a-41bc118dbf16\",\"type\":\"AdaptiveTicker\"},{\"attributes\":{\"below\":[{\"id\":\"20a01987-28b5-4894-b47a-9937838ae845\",\"type\":\"LinearAxis\"}],\"left\":[{\"id\":\"25690c60-a14f-4790-9deb-cae617df973c\",\"type\":\"LinearAxis\"}],\"renderers\":[{\"id\":\"20a01987-28b5-4894-b47a-9937838ae845\",\"type\":\"LinearAxis\"},{\"id\":\"28acb3b7-a7f9-4b7b-8a61-290b8e9d94a0\",\"type\":\"Grid\"},{\"id\":\"25690c60-a14f-4790-9deb-cae617df973c\",\"type\":\"LinearAxis\"},{\"id\":\"188686de-f534-4e28-a8dd-fdab6aa9d9ce\",\"type\":\"Grid\"},{\"id\":\"5bba750d-be98-4b9d-9899-e24e0bca1952\",\"type\":\"BoxAnnotation\"},{\"id\":\"1af53b69-4ce7-42b8-9110-cedaad3a100d\",\"type\":\"GlyphRenderer\"}],\"tool_events\":{\"id\":\"f20efda1-0dd8-4b2f-874e-812afe893025\",\"type\":\"ToolEvents\"},\"tools\":[{\"id\":\"de39fe18-4004-4ce4-81bb-0f2ebadaa4dd\",\"type\":\"PanTool\"},{\"id\":\"a00b1950-f642-4668-8d72-6f21c7201dad\",\"type\":\"WheelZoomTool\"},{\"id\":\"faefaa1b-78ac-4c9d-b82a-957a30c0ae37\",\"type\":\"BoxZoomTool\"},{\"id\":\"9b139dc2-f659-4603-b5f2-325642694b39\",\"type\":\"PreviewSaveTool\"},{\"id\":\"7138e56e-7884-45de-9932-50b470eb9c9f\",\"type\":\"ResizeTool\"},{\"id\":\"f0222c52-ca3f-4a72-9597-4355ed1a5a1a\",\"type\":\"ResetTool\"},{\"id\":\"fb1f3fdc-243c-4b05-a4a3-415e380c8ab6\",\"type\":\"HelpTool\"}],\"x_range\":{\"id\":\"877c3510-6b44-4424-b6e7-2790a37b1d0f\",\"type\":\"DataRange1d\"},\"y_range\":{\"id\":\"78f3af4e-551c-4f41-8545-051fbaaf6ee3\",\"type\":\"DataRange1d\"}},\"id\":\"ac53af4e-d016-41cd-be82-dbab7f014a88\",\"subtype\":\"Figure\",\"type\":\"Plot\"},{\"attributes\":{},\"id\":\"4f714c48-0d26-4dd5-817e-b649b69327d8\",\"type\":\"BasicTickFormatter\"},{\"attributes\":{\"plot\":{\"id\":\"0566e70a-5e8f-4c14-88eb-53a64d85a85b\",\"subtype\":\"Figure\",\"type\":\"Plot\"}},\"id\":\"21b24c48-bba8-4619-bd6a-705a3da0e399\",\"type\":\"PreviewSaveTool\"},{\"attributes\":{\"line_alpha\":{\"value\":0.1},\"line_color\":{\"value\":\"#1f77b4\"},\"line_width\":{\"value\":3},\"x\":{\"field\":\"x\"},\"y\":{\"field\":\"y\"}},\"id\":\"cc37d206-4ac6-4317-98e6-c528368f0f92\",\"type\":\"Line\"},{\"attributes\":{\"days\":[1,15]},\"id\":\"1c33d658-8c20-45e1-866f-af2547fcbd1f\",\"type\":\"DaysTicker\"},{\"attributes\":{},\"id\":\"1b5a43e4-28c2-4544-b17c-a8ceaa5d4775\",\"type\":\"BasicTicker\"},{\"attributes\":{\"months\":[0,4,8]},\"id\":\"a32ce6a0-ab9f-4600-b5fd-8ce744622658\",\"type\":\"MonthsTicker\"},{\"attributes\":{\"months\":[0,2,4,6,8,10]},\"id\":\"1573905c-431c-4a83-a2cd-042b8a3806a5\",\"type\":\"MonthsTicker\"},{\"attributes\":{\"below\":[{\"id\":\"8c697e5f-b180-47c7-9ad5-10d3ce9f64cc\",\"type\":\"LinearAxis\"}],\"left\":[{\"id\":\"290dc5c4-a13b-42d3-84c3-61a3faa3df0c\",\"type\":\"LinearAxis\"}],\"renderers\":[{\"id\":\"8c697e5f-b180-47c7-9ad5-10d3ce9f64cc\",\"type\":\"LinearAxis\"},{\"id\":\"d159c74c-d45b-4423-82c2-b7fbfc869804\",\"type\":\"Grid\"},{\"id\":\"290dc5c4-a13b-42d3-84c3-61a3faa3df0c\",\"type\":\"LinearAxis\"},{\"id\":\"fed0b166-a0df-46be-ad50-4c69ec195fe5\",\"type\":\"Grid\"},{\"id\":\"dcdc18dd-9808-41f3-b4cb-bc2797b1ba8d\",\"type\":\"BoxAnnotation\"},{\"id\":\"fc60d6e2-3dc3-48c9-89a2-fdba53d1b378\",\"type\":\"GlyphRenderer\"}],\"tool_events\":{\"id\":\"a5622894-e682-4515-96ba-7b6492f478f0\",\"type\":\"ToolEvents\"},\"tools\":[{\"id\":\"6dede79b-f690-4b9a-856f-48480d9d79ea\",\"type\":\"PanTool\"},{\"id\":\"af18f8bc-568e-4608-8a38-16edc85e26cb\",\"type\":\"WheelZoomTool\"},{\"id\":\"88148dbb-0e22-4b3c-a264-b08ba24387e6\",\"type\":\"BoxZoomTool\"},{\"id\":\"e488e182-a765-4397-bfad-c1ba9fcb62ff\",\"type\":\"PreviewSaveTool\"},{\"id\":\"081ce399-abaa-4ae7-a848-81216df8d8ca\",\"type\":\"ResizeTool\"},{\"id\":\"e6be7776-1271-41cf-93f9-4c158afb2484\",\"type\":\"ResetTool\"},{\"id\":\"a6e9573c-8027-4668-b441-5919413e1981\",\"type\":\"HelpTool\"}],\"x_range\":{\"id\":\"e7ee3390-6655-4cf9-bb41-de8b296410a7\",\"type\":\"DataRange1d\"},\"y_range\":{\"id\":\"db7d31f9-5be6-4b5c-987c-e8fe01500725\",\"type\":\"DataRange1d\"}},\"id\":\"e50d9592-12dc-4194-8f95-69efe185c34b\",\"subtype\":\"Figure\",\"type\":\"Plot\"},{\"attributes\":{\"formatter\":{\"id\":\"796e969b-4934-4c5c-a4b5-5471cbc1c015\",\"type\":\"BasicTickFormatter\"},\"plot\":{\"id\":\"e50d9592-12dc-4194-8f95-69efe185c34b\",\"subtype\":\"Figure\",\"type\":\"Plot\"},\"ticker\":{\"id\":\"62a2832a-cdcc-473e-b983-1eda37029b2e\",\"type\":\"BasicTicker\"}},\"id\":\"8c697e5f-b180-47c7-9ad5-10d3ce9f64cc\",\"type\":\"LinearAxis\"},{\"attributes\":{\"callback\":null,\"column_names\":[\"y\",\"x\"],\"data\":{\"x\":[1464912000000.0,1464825600000.0,1464739200000.0,1464652800000.0,1464307200000.0,1464220800000.0,1464134400000.0,1464048000000.0,1463961600000.0,1463702400000.0,1463616000000.0,1463529600000.0,1463443200000.0,1463356800000.0,1463097600000.0,1463011200000.0,1462924800000.0,1462838400000.0,1462752000000.0,1462492800000.0,1462406400000.0],\"y\":[722.34,730.4,734.15,735.72,732.66,724.12,725.27,720.09,704.24,709.74,700.32,706.63,706.23,716.49,710.83,713.31,715.29,723.18,712.9,711.12,701.43]}},\"id\":\"24c4cadb-3a44-4dfb-b607-149de1bd3fd1\",\"type\":\"ColumnDataSource\"},{\"attributes\":{\"formatter\":{\"id\":\"468fee2b-e33c-417c-93b4-b7a000e302dd\",\"type\":\"BasicTickFormatter\"},\"plot\":{\"id\":\"96bd9a96-36c0-412b-9ff0-54a436226d4c\",\"subtype\":\"Figure\",\"type\":\"Plot\"},\"ticker\":{\"id\":\"1b5a43e4-28c2-4544-b17c-a8ceaa5d4775\",\"type\":\"BasicTicker\"}},\"id\":\"1c332cb4-cd3c-4844-a409-773baa1d5815\",\"type\":\"LinearAxis\"},{\"attributes\":{\"bottom_units\":\"screen\",\"fill_alpha\":{\"value\":0.5},\"fill_color\":{\"value\":\"lightgrey\"},\"left_units\":\"screen\",\"level\":\"overlay\",\"line_alpha\":{\"value\":1.0},\"line_color\":{\"value\":\"black\"},\"line_dash\":[4,4],\"line_width\":{\"value\":2},\"plot\":null,\"render_mode\":\"css\",\"right_units\":\"screen\",\"top_units\":\"screen\"},\"id\":\"017ccb2e-f9c3-4fd4-8ae7-264935b97122\",\"type\":\"BoxAnnotation\"},{\"attributes\":{\"plot\":{\"id\":\"ac53af4e-d016-41cd-be82-dbab7f014a88\",\"subtype\":\"Figure\",\"type\":\"Plot\"}},\"id\":\"a00b1950-f642-4668-8d72-6f21c7201dad\",\"type\":\"WheelZoomTool\"},{\"attributes\":{\"plot\":{\"id\":\"3003cdb0-91b6-4d13-9b29-5a656526b51a\",\"subtype\":\"Figure\",\"type\":\"Plot\"}},\"id\":\"8fca2f5c-124d-42b4-b89f-44e0a9b37f12\",\"type\":\"HelpTool\"},{\"attributes\":{\"callback\":null,\"column_names\":[\"y\",\"x\"],\"data\":{\"x\":[1464912000000.0,1464825600000.0,1464739200000.0,1464652800000.0,1464307200000.0,1464220800000.0,1464134400000.0,1464048000000.0,1463961600000.0,1463702400000.0,1463616000000.0,1463529600000.0,1463443200000.0,1463356800000.0,1463097600000.0,1463011200000.0,1462924800000.0,1462838400000.0,1462752000000.0,1462492800000.0,1462406400000.0],\"y\":[722.34,730.4,734.15,735.72,732.66,724.12,725.27,720.09,704.24,709.74,700.32,706.63,706.23,716.49,710.83,713.31,715.29,723.18,712.9,711.12,701.43]}},\"id\":\"e3703718-8cb8-4938-bf78-9c29caa7e274\",\"type\":\"ColumnDataSource\"},{\"attributes\":{\"dimension\":1,\"plot\":{\"id\":\"3003cdb0-91b6-4d13-9b29-5a656526b51a\",\"subtype\":\"Figure\",\"type\":\"Plot\"},\"ticker\":{\"id\":\"f7d62b53-3c52-4020-bc46-8f77f40daf3c\",\"type\":\"BasicTicker\"}},\"id\":\"dceee361-3267-42c6-a8a7-58e0a46bb73e\",\"type\":\"Grid\"},{\"attributes\":{\"plot\":{\"id\":\"96bd9a96-36c0-412b-9ff0-54a436226d4c\",\"subtype\":\"Figure\",\"type\":\"Plot\"}},\"id\":\"4bb64bf0-e7a2-4fa6-9582-9d1ba56d3767\",\"type\":\"PanTool\"},{\"attributes\":{\"plot\":{\"id\":\"e50d9592-12dc-4194-8f95-69efe185c34b\",\"subtype\":\"Figure\",\"type\":\"Plot\"}},\"id\":\"e6be7776-1271-41cf-93f9-4c158afb2484\",\"type\":\"ResetTool\"},{\"attributes\":{\"plot\":{\"id\":\"0566e70a-5e8f-4c14-88eb-53a64d85a85b\",\"subtype\":\"Figure\",\"type\":\"Plot\"}},\"id\":\"583dc91c-2387-4916-a025-ae9b594344b9\",\"type\":\"PanTool\"},{\"attributes\":{\"num_minor_ticks\":5},\"id\":\"4b9a12f2-589c-40ac-a532-05dafc2ff231\",\"type\":\"DatetimeTicker\"},{\"attributes\":{},\"id\":\"ddfeff5c-dd77-48f3-a288-155953fa0983\",\"type\":\"BasicTicker\"},{\"attributes\":{\"line_color\":{\"value\":\"#1f77b4\"},\"x\":{\"field\":\"x\"},\"y\":{\"field\":\"y\"}},\"id\":\"d74c6f97-44ca-41e0-8b20-fd148f594d57\",\"type\":\"Line\"},{\"attributes\":{\"formatter\":{\"id\":\"53d63ce5-34ed-470b-a6b6-d78609705c5c\",\"type\":\"BasicTickFormatter\"},\"plot\":{\"id\":\"ac53af4e-d016-41cd-be82-dbab7f014a88\",\"subtype\":\"Figure\",\"type\":\"Plot\"},\"ticker\":{\"id\":\"68757013-71b2-4646-bbea-c397e1d78a50\",\"type\":\"BasicTicker\"}},\"id\":\"25690c60-a14f-4790-9deb-cae617df973c\",\"type\":\"LinearAxis\"},{\"attributes\":{\"plot\":{\"id\":\"96bd9a96-36c0-412b-9ff0-54a436226d4c\",\"subtype\":\"Figure\",\"type\":\"Plot\"},\"ticker\":{\"id\":\"4b9a12f2-589c-40ac-a532-05dafc2ff231\",\"type\":\"DatetimeTicker\"}},\"id\":\"85388e1f-93d7-4221-8e4d-94961dd1ee93\",\"type\":\"Grid\"},{\"attributes\":{\"line_alpha\":{\"value\":0.1},\"line_color\":{\"value\":\"#1f77b4\"},\"x\":{\"field\":\"x\"},\"y\":{\"field\":\"y\"}},\"id\":\"28e81a57-0510-4041-9e1b-3a875c12a721\",\"type\":\"Line\"},{\"attributes\":{},\"id\":\"68757013-71b2-4646-bbea-c397e1d78a50\",\"type\":\"BasicTicker\"},{\"attributes\":{\"line_color\":{\"value\":\"#2222aa\"},\"line_width\":{\"value\":3},\"x\":{\"field\":\"x\"},\"y\":{\"field\":\"y\"}},\"id\":\"efb57316-7fb8-409a-9f47-336cd8ebadd5\",\"type\":\"Line\"},{\"attributes\":{\"plot\":{\"id\":\"e50d9592-12dc-4194-8f95-69efe185c34b\",\"subtype\":\"Figure\",\"type\":\"Plot\"}},\"id\":\"af18f8bc-568e-4608-8a38-16edc85e26cb\",\"type\":\"WheelZoomTool\"},{\"attributes\":{\"plot\":{\"id\":\"96bd9a96-36c0-412b-9ff0-54a436226d4c\",\"subtype\":\"Figure\",\"type\":\"Plot\"}},\"id\":\"b04c8030-ab6e-49e2-9069-0baa56ef6f49\",\"type\":\"ResetTool\"},{\"attributes\":{\"plot\":{\"id\":\"0566e70a-5e8f-4c14-88eb-53a64d85a85b\",\"subtype\":\"Figure\",\"type\":\"Plot\"}},\"id\":\"7f16f6de-0282-4350-abbf-81351c392146\",\"type\":\"HelpTool\"},{\"attributes\":{\"days\":[1,2,3,4,5,6,7,8,9,10,11,12,13,14,15,16,17,18,19,20,21,22,23,24,25,26,27,28,29,30,31]},\"id\":\"a3ba5dee-3479-44a7-b6e7-077aa56fb473\",\"type\":\"DaysTicker\"},{\"attributes\":{\"data_source\":{\"id\":\"75481976-d64a-4c8d-85b4-550b02c04d81\",\"type\":\"ColumnDataSource\"},\"glyph\":{\"id\":\"c3ddf415-3ae0-4e86-b4a0-60387edb9838\",\"type\":\"Line\"},\"hover_glyph\":null,\"nonselection_glyph\":{\"id\":\"354b5b63-356c-46a9-b7c8-3085fd92b214\",\"type\":\"Line\"},\"selection_glyph\":null},\"id\":\"1af53b69-4ce7-42b8-9110-cedaad3a100d\",\"type\":\"GlyphRenderer\"},{\"attributes\":{\"plot\":{\"id\":\"0566e70a-5e8f-4c14-88eb-53a64d85a85b\",\"subtype\":\"Figure\",\"type\":\"Plot\"}},\"id\":\"53dd1558-9029-431c-a5d4-91de422bfdbf\",\"type\":\"ResetTool\"},{\"attributes\":{},\"id\":\"62a2832a-cdcc-473e-b983-1eda37029b2e\",\"type\":\"BasicTicker\"},{\"attributes\":{\"plot\":{\"id\":\"ac53af4e-d016-41cd-be82-dbab7f014a88\",\"subtype\":\"Figure\",\"type\":\"Plot\"},\"ticker\":{\"id\":\"4e1089ee-c5f0-483c-b28a-efb98b2e80aa\",\"type\":\"BasicTicker\"}},\"id\":\"28acb3b7-a7f9-4b7b-8a61-290b8e9d94a0\",\"type\":\"Grid\"},{\"attributes\":{\"plot\":{\"id\":\"0566e70a-5e8f-4c14-88eb-53a64d85a85b\",\"subtype\":\"Figure\",\"type\":\"Plot\"}},\"id\":\"ececba76-0b80-47aa-9b2b-3f1fffec5ce5\",\"type\":\"WheelZoomTool\"},{\"attributes\":{},\"id\":\"66501ff8-d58b-40ff-a454-af7ad8c803b5\",\"type\":\"BasicTickFormatter\"},{\"attributes\":{\"base\":24,\"mantissas\":[1,2,4,6,8,12],\"max_interval\":43200000.0,\"min_interval\":3600000.0,\"num_minor_ticks\":0},\"id\":\"986f71f4-a06b-46e5-976b-0a28b1c8d4b9\",\"type\":\"AdaptiveTicker\"},{\"attributes\":{\"overlay\":{\"id\":\"5bba750d-be98-4b9d-9899-e24e0bca1952\",\"type\":\"BoxAnnotation\"},\"plot\":{\"id\":\"ac53af4e-d016-41cd-be82-dbab7f014a88\",\"subtype\":\"Figure\",\"type\":\"Plot\"}},\"id\":\"faefaa1b-78ac-4c9d-b82a-957a30c0ae37\",\"type\":\"BoxZoomTool\"},{\"attributes\":{\"bottom_units\":\"screen\",\"fill_alpha\":{\"value\":0.5},\"fill_color\":{\"value\":\"lightgrey\"},\"left_units\":\"screen\",\"level\":\"overlay\",\"line_alpha\":{\"value\":1.0},\"line_color\":{\"value\":\"black\"},\"line_dash\":[4,4],\"line_width\":{\"value\":2},\"plot\":null,\"render_mode\":\"css\",\"right_units\":\"screen\",\"top_units\":\"screen\"},\"id\":\"5bba750d-be98-4b9d-9899-e24e0bca1952\",\"type\":\"BoxAnnotation\"},{\"attributes\":{\"plot\":{\"id\":\"96bd9a96-36c0-412b-9ff0-54a436226d4c\",\"subtype\":\"Figure\",\"type\":\"Plot\"}},\"id\":\"2fbe7b9f-4ff4-42d5-803c-9b405bb353e0\",\"type\":\"WheelZoomTool\"},{\"attributes\":{\"plot\":{\"id\":\"96bd9a96-36c0-412b-9ff0-54a436226d4c\",\"subtype\":\"Figure\",\"type\":\"Plot\"}},\"id\":\"bd228bde-f646-4854-b387-bc8a66579142\",\"type\":\"PreviewSaveTool\"},{\"attributes\":{\"plot\":{\"id\":\"3003cdb0-91b6-4d13-9b29-5a656526b51a\",\"subtype\":\"Figure\",\"type\":\"Plot\"}},\"id\":\"8260cd49-f19c-47ee-ad71-14d641fe12e4\",\"type\":\"ResetTool\"},{\"attributes\":{\"line_color\":{\"value\":\"#1f77b4\"},\"x\":{\"field\":\"x\"},\"y\":{\"field\":\"y\"}},\"id\":\"1ebd2b71-ad46-4666-b634-833534014ad1\",\"type\":\"Line\"},{\"attributes\":{\"callback\":null,\"column_names\":[\"y\",\"x\"],\"data\":{\"x\":[1464912000000.0,1464825600000.0,1464739200000.0,1464652800000.0,1464307200000.0,1464220800000.0,1464134400000.0,1464048000000.0,1463961600000.0,1463702400000.0,1463616000000.0,1463529600000.0,1463443200000.0,1463356800000.0,1463097600000.0,1463011200000.0,1462924800000.0,1462838400000.0,1462752000000.0,1462492800000.0,1462406400000.0],\"y\":[722.34,730.4,734.15,735.72,732.66,724.12,725.27,720.09,704.24,709.74,700.32,706.63,706.23,716.49,710.83,713.31,715.29,723.18,712.9,711.12,701.43]}},\"id\":\"3cb17a07-3040-4310-882a-353304f7ca6d\",\"type\":\"ColumnDataSource\"},{\"attributes\":{\"days\":[1,8,15,22]},\"id\":\"3d858e3b-4f55-4419-ab6f-21494d10aa18\",\"type\":\"DaysTicker\"},{\"attributes\":{\"below\":[{\"id\":\"7462e72b-38b2-4371-b4cb-2f82ef785023\",\"type\":\"DatetimeAxis\"}],\"left\":[{\"id\":\"db999b1f-5fc1-48c5-956e-2ba112f0837f\",\"type\":\"LinearAxis\"}],\"renderers\":[{\"id\":\"7462e72b-38b2-4371-b4cb-2f82ef785023\",\"type\":\"DatetimeAxis\"},{\"id\":\"a7f2935d-db47-438d-beee-3c297326c15c\",\"type\":\"Grid\"},{\"id\":\"db999b1f-5fc1-48c5-956e-2ba112f0837f\",\"type\":\"LinearAxis\"},{\"id\":\"07787d7c-38f6-4715-b1c0-e4f57e487e94\",\"type\":\"Grid\"},{\"id\":\"ca9f6e19-e7d1-4d2e-b7bd-0c43171e9dd7\",\"type\":\"BoxAnnotation\"},{\"id\":\"48e2638e-7e48-4132-8dce-4a0f11168681\",\"type\":\"GlyphRenderer\"}],\"tool_events\":{\"id\":\"01460cc2-7f96-4b8d-b1ba-1d267171f5d0\",\"type\":\"ToolEvents\"},\"tools\":[{\"id\":\"583dc91c-2387-4916-a025-ae9b594344b9\",\"type\":\"PanTool\"},{\"id\":\"ececba76-0b80-47aa-9b2b-3f1fffec5ce5\",\"type\":\"WheelZoomTool\"},{\"id\":\"7bf20e1a-565c-4979-854b-5dc3ac52eec7\",\"type\":\"BoxZoomTool\"},{\"id\":\"21b24c48-bba8-4619-bd6a-705a3da0e399\",\"type\":\"PreviewSaveTool\"},{\"id\":\"78d303c1-cef0-4c98-b57c-3438e0eb35e4\",\"type\":\"ResizeTool\"},{\"id\":\"53dd1558-9029-431c-a5d4-91de422bfdbf\",\"type\":\"ResetTool\"},{\"id\":\"7f16f6de-0282-4350-abbf-81351c392146\",\"type\":\"HelpTool\"}],\"x_range\":{\"id\":\"e756009f-61f3-4dc8-b3c6-618c083f07b2\",\"type\":\"DataRange1d\"},\"y_range\":{\"id\":\"19273776-3fbc-454f-85f7-bdc26aee6600\",\"type\":\"DataRange1d\"}},\"id\":\"0566e70a-5e8f-4c14-88eb-53a64d85a85b\",\"subtype\":\"Figure\",\"type\":\"Plot\"},{\"attributes\":{},\"id\":\"f20efda1-0dd8-4b2f-874e-812afe893025\",\"type\":\"ToolEvents\"},{\"attributes\":{\"line_alpha\":{\"value\":0.1},\"line_color\":{\"value\":\"#1f77b4\"},\"line_width\":{\"value\":3},\"x\":{\"field\":\"x\"},\"y\":{\"field\":\"y\"}},\"id\":\"3e89b639-a5ef-4c77-a055-fe00ce8f2482\",\"type\":\"Line\"},{\"attributes\":{},\"id\":\"2e5fd6dc-4351-4719-a186-9657537596a2\",\"type\":\"DatetimeTickFormatter\"},{\"attributes\":{},\"id\":\"468fee2b-e33c-417c-93b4-b7a000e302dd\",\"type\":\"BasicTickFormatter\"},{\"attributes\":{\"formatter\":{\"id\":\"937ac12f-9c8c-434f-928c-376ec4040e66\",\"type\":\"DatetimeTickFormatter\"},\"plot\":{\"id\":\"96bd9a96-36c0-412b-9ff0-54a436226d4c\",\"subtype\":\"Figure\",\"type\":\"Plot\"},\"ticker\":{\"id\":\"4b9a12f2-589c-40ac-a532-05dafc2ff231\",\"type\":\"DatetimeTicker\"}},\"id\":\"eb52673b-73f5-4621-b941-bfcd886872b3\",\"type\":\"DatetimeAxis\"},{\"attributes\":{\"formatter\":{\"id\":\"684794cc-66f6-4e0f-8a5f-118c15af59a6\",\"type\":\"BasicTickFormatter\"},\"plot\":{\"id\":\"0566e70a-5e8f-4c14-88eb-53a64d85a85b\",\"subtype\":\"Figure\",\"type\":\"Plot\"},\"ticker\":{\"id\":\"c69a93a8-cfcf-488f-8b9d-57d9eb7c7c21\",\"type\":\"BasicTicker\"}},\"id\":\"db999b1f-5fc1-48c5-956e-2ba112f0837f\",\"type\":\"LinearAxis\"},{\"attributes\":{\"plot\":{\"id\":\"0566e70a-5e8f-4c14-88eb-53a64d85a85b\",\"subtype\":\"Figure\",\"type\":\"Plot\"},\"ticker\":{\"id\":\"545a92ba-7661-49fb-ac4d-ced7dfd8ed33\",\"type\":\"DatetimeTicker\"}},\"id\":\"a7f2935d-db47-438d-beee-3c297326c15c\",\"type\":\"Grid\"},{\"attributes\":{\"line_alpha\":{\"value\":0.1},\"line_color\":{\"value\":\"#1f77b4\"},\"x\":{\"field\":\"x\"},\"y\":{\"field\":\"y\"}},\"id\":\"70f3389b-2a32-4882-be7f-c36284e99826\",\"type\":\"Line\"},{\"attributes\":{\"plot\":{\"id\":\"3003cdb0-91b6-4d13-9b29-5a656526b51a\",\"subtype\":\"Figure\",\"type\":\"Plot\"},\"ticker\":{\"id\":\"ddfeff5c-dd77-48f3-a288-155953fa0983\",\"type\":\"BasicTicker\"}},\"id\":\"8616b6b0-8730-4800-9110-5709ca43cc49\",\"type\":\"Grid\"},{\"attributes\":{},\"id\":\"a5622894-e682-4515-96ba-7b6492f478f0\",\"type\":\"ToolEvents\"},{\"attributes\":{\"data_source\":{\"id\":\"3cb17a07-3040-4310-882a-353304f7ca6d\",\"type\":\"ColumnDataSource\"},\"glyph\":{\"id\":\"efb57316-7fb8-409a-9f47-336cd8ebadd5\",\"type\":\"Line\"},\"hover_glyph\":null,\"nonselection_glyph\":{\"id\":\"3e89b639-a5ef-4c77-a055-fe00ce8f2482\",\"type\":\"Line\"},\"selection_glyph\":null},\"id\":\"fc60d6e2-3dc3-48c9-89a2-fdba53d1b378\",\"type\":\"GlyphRenderer\"},{\"attributes\":{\"bottom_units\":\"screen\",\"fill_alpha\":{\"value\":0.5},\"fill_color\":{\"value\":\"lightgrey\"},\"left_units\":\"screen\",\"level\":\"overlay\",\"line_alpha\":{\"value\":1.0},\"line_color\":{\"value\":\"black\"},\"line_dash\":[4,4],\"line_width\":{\"value\":2},\"plot\":null,\"render_mode\":\"css\",\"right_units\":\"screen\",\"top_units\":\"screen\"},\"id\":\"ca9f6e19-e7d1-4d2e-b7bd-0c43171e9dd7\",\"type\":\"BoxAnnotation\"},{\"attributes\":{\"bottom_units\":\"screen\",\"fill_alpha\":{\"value\":0.5},\"fill_color\":{\"value\":\"lightgrey\"},\"left_units\":\"screen\",\"level\":\"overlay\",\"line_alpha\":{\"value\":1.0},\"line_color\":{\"value\":\"black\"},\"line_dash\":[4,4],\"line_width\":{\"value\":2},\"plot\":null,\"render_mode\":\"css\",\"right_units\":\"screen\",\"top_units\":\"screen\"},\"id\":\"517287da-864e-4962-b03f-95f04084c14d\",\"type\":\"BoxAnnotation\"},{\"attributes\":{\"plot\":{\"id\":\"e50d9592-12dc-4194-8f95-69efe185c34b\",\"subtype\":\"Figure\",\"type\":\"Plot\"}},\"id\":\"a6e9573c-8027-4668-b441-5919413e1981\",\"type\":\"HelpTool\"},{\"attributes\":{\"plot\":{\"id\":\"e50d9592-12dc-4194-8f95-69efe185c34b\",\"subtype\":\"Figure\",\"type\":\"Plot\"},\"ticker\":{\"id\":\"62a2832a-cdcc-473e-b983-1eda37029b2e\",\"type\":\"BasicTicker\"}},\"id\":\"d159c74c-d45b-4423-82c2-b7fbfc869804\",\"type\":\"Grid\"},{\"attributes\":{\"months\":[0,1,2,3,4,5,6,7,8,9,10,11]},\"id\":\"1880f7bc-e8b6-4ed2-8750-ca880de48720\",\"type\":\"MonthsTicker\"},{\"attributes\":{\"line_color\":{\"value\":\"#2222aa\"},\"line_width\":{\"value\":3},\"x\":{\"field\":\"x\"},\"y\":{\"field\":\"y\"}},\"id\":\"8d3e778b-40a5-4cc3-a2ef-24830edefff1\",\"type\":\"Line\"},{\"attributes\":{\"below\":[{\"id\":\"46417087-1819-4ff3-938a-d5ac2dd130ca\",\"type\":\"LinearAxis\"}],\"left\":[{\"id\":\"74b1df10-a132-47a7-b3b2-9e697c2184dc\",\"type\":\"LinearAxis\"}],\"renderers\":[{\"id\":\"46417087-1819-4ff3-938a-d5ac2dd130ca\",\"type\":\"LinearAxis\"},{\"id\":\"8616b6b0-8730-4800-9110-5709ca43cc49\",\"type\":\"Grid\"},{\"id\":\"74b1df10-a132-47a7-b3b2-9e697c2184dc\",\"type\":\"LinearAxis\"},{\"id\":\"dceee361-3267-42c6-a8a7-58e0a46bb73e\",\"type\":\"Grid\"},{\"id\":\"517287da-864e-4962-b03f-95f04084c14d\",\"type\":\"BoxAnnotation\"},{\"id\":\"fe5b8dd7-3cd6-42db-abbd-fd32a5cd14ba\",\"type\":\"GlyphRenderer\"}],\"tool_events\":{\"id\":\"5073e6c7-ca6a-4d76-8954-64e210d9efbc\",\"type\":\"ToolEvents\"},\"tools\":[{\"id\":\"fe97140f-dc8b-4674-a35f-9e42762a97d0\",\"type\":\"PanTool\"},{\"id\":\"fdc044c5-0b1c-42ea-a014-62f6a8da1a70\",\"type\":\"WheelZoomTool\"},{\"id\":\"1a03a9af-43a8-4e73-a85d-760bb6c9b6a6\",\"type\":\"BoxZoomTool\"},{\"id\":\"4a0c0c7f-59bb-49a0-9cb5-90914d0867b7\",\"type\":\"PreviewSaveTool\"},{\"id\":\"c8e10a4d-1a4c-488b-bdda-dd79d832d35d\",\"type\":\"ResizeTool\"},{\"id\":\"8260cd49-f19c-47ee-ad71-14d641fe12e4\",\"type\":\"ResetTool\"},{\"id\":\"8fca2f5c-124d-42b4-b89f-44e0a9b37f12\",\"type\":\"HelpTool\"}],\"x_range\":{\"id\":\"d97d7a69-71a4-454b-b2cc-eea18ff802d2\",\"type\":\"DataRange1d\"},\"y_range\":{\"id\":\"43d73bf0-2bf8-4637-9bcf-8f9703eb8165\",\"type\":\"DataRange1d\"}},\"id\":\"3003cdb0-91b6-4d13-9b29-5a656526b51a\",\"subtype\":\"Figure\",\"type\":\"Plot\"},{\"attributes\":{\"callback\":null},\"id\":\"e7ee3390-6655-4cf9-bb41-de8b296410a7\",\"type\":\"DataRange1d\"},{\"attributes\":{\"plot\":{\"id\":\"e50d9592-12dc-4194-8f95-69efe185c34b\",\"subtype\":\"Figure\",\"type\":\"Plot\"}},\"id\":\"e488e182-a765-4397-bfad-c1ba9fcb62ff\",\"type\":\"PreviewSaveTool\"},{\"attributes\":{},\"id\":\"5073e6c7-ca6a-4d76-8954-64e210d9efbc\",\"type\":\"ToolEvents\"},{\"attributes\":{},\"id\":\"784477ad-bb8c-4b11-9a3a-938a5207677e\",\"type\":\"YearsTicker\"},{\"attributes\":{\"plot\":{\"id\":\"ac53af4e-d016-41cd-be82-dbab7f014a88\",\"subtype\":\"Figure\",\"type\":\"Plot\"}},\"id\":\"f0222c52-ca3f-4a72-9597-4355ed1a5a1a\",\"type\":\"ResetTool\"},{\"attributes\":{\"days\":[1,4,7,10,13,16,19,22,25,28]},\"id\":\"621dc24e-8ca6-4ab1-91ac-ae19c736f60f\",\"type\":\"DaysTicker\"},{\"attributes\":{\"data_source\":{\"id\":\"24c4cadb-3a44-4dfb-b607-149de1bd3fd1\",\"type\":\"ColumnDataSource\"},\"glyph\":{\"id\":\"8d3e778b-40a5-4cc3-a2ef-24830edefff1\",\"type\":\"Line\"},\"hover_glyph\":null,\"nonselection_glyph\":{\"id\":\"cc37d206-4ac6-4317-98e6-c528368f0f92\",\"type\":\"Line\"},\"selection_glyph\":null},\"id\":\"48e2638e-7e48-4132-8dce-4a0f11168681\",\"type\":\"GlyphRenderer\"},{\"attributes\":{\"num_minor_ticks\":5},\"id\":\"545a92ba-7661-49fb-ac4d-ced7dfd8ed33\",\"type\":\"DatetimeTicker\"},{\"attributes\":{\"callback\":null,\"column_names\":[\"y\",\"x\"],\"data\":{\"x\":[1464912000000.0,1464825600000.0,1464739200000.0,1464652800000.0,1464307200000.0,1464220800000.0,1464134400000.0,1464048000000.0,1463961600000.0,1463702400000.0,1463616000000.0,1463529600000.0,1463443200000.0,1463356800000.0,1463097600000.0,1463011200000.0,1462924800000.0,1462838400000.0,1462752000000.0,1462492800000.0,1462406400000.0],\"y\":[722.34,730.4,734.15,735.72,732.66,724.12,725.27,720.09,704.24,709.74,700.32,706.63,706.23,716.49,710.83,713.31,715.29,723.18,712.9,711.12,701.43]}},\"id\":\"75481976-d64a-4c8d-85b4-550b02c04d81\",\"type\":\"ColumnDataSource\"},{\"attributes\":{},\"id\":\"279bd31c-2b3d-4469-ae94-f959c3ebf0c6\",\"type\":\"YearsTicker\"},{\"attributes\":{\"below\":[{\"id\":\"eb52673b-73f5-4621-b941-bfcd886872b3\",\"type\":\"DatetimeAxis\"}],\"left\":[{\"id\":\"1c332cb4-cd3c-4844-a409-773baa1d5815\",\"type\":\"LinearAxis\"}],\"renderers\":[{\"id\":\"eb52673b-73f5-4621-b941-bfcd886872b3\",\"type\":\"DatetimeAxis\"},{\"id\":\"85388e1f-93d7-4221-8e4d-94961dd1ee93\",\"type\":\"Grid\"},{\"id\":\"1c332cb4-cd3c-4844-a409-773baa1d5815\",\"type\":\"LinearAxis\"},{\"id\":\"83b53f64-9bd2-4862-9a4a-28b244e8038e\",\"type\":\"Grid\"},{\"id\":\"017ccb2e-f9c3-4fd4-8ae7-264935b97122\",\"type\":\"BoxAnnotation\"},{\"id\":\"0afb9d8f-396c-4597-8f2f-e630e0c21f1f\",\"type\":\"GlyphRenderer\"}],\"tool_events\":{\"id\":\"41af0bb7-dab5-4eed-bd29-b64a7670c059\",\"type\":\"ToolEvents\"},\"tools\":[{\"id\":\"4bb64bf0-e7a2-4fa6-9582-9d1ba56d3767\",\"type\":\"PanTool\"},{\"id\":\"2fbe7b9f-4ff4-42d5-803c-9b405bb353e0\",\"type\":\"WheelZoomTool\"},{\"id\":\"db877f14-0e98-4b35-b610-e903309c9245\",\"type\":\"BoxZoomTool\"},{\"id\":\"bd228bde-f646-4854-b387-bc8a66579142\",\"type\":\"PreviewSaveTool\"},{\"id\":\"1cec8999-f360-43fc-a422-600196dde1c4\",\"type\":\"ResizeTool\"},{\"id\":\"b04c8030-ab6e-49e2-9069-0baa56ef6f49\",\"type\":\"ResetTool\"},{\"id\":\"b82f8426-4420-4c3f-898e-04fdf1586211\",\"type\":\"HelpTool\"}],\"x_range\":{\"id\":\"fd246d36-9f74-4910-a64e-a962bfe64b49\",\"type\":\"DataRange1d\"},\"y_range\":{\"id\":\"1f353340-8338-4f32-8ae4-d07f1cb80ba8\",\"type\":\"DataRange1d\"}},\"id\":\"96bd9a96-36c0-412b-9ff0-54a436226d4c\",\"subtype\":\"Figure\",\"type\":\"Plot\"},{\"attributes\":{\"dimension\":1,\"plot\":{\"id\":\"0566e70a-5e8f-4c14-88eb-53a64d85a85b\",\"subtype\":\"Figure\",\"type\":\"Plot\"},\"ticker\":{\"id\":\"c69a93a8-cfcf-488f-8b9d-57d9eb7c7c21\",\"type\":\"BasicTicker\"}},\"id\":\"07787d7c-38f6-4715-b1c0-e4f57e487e94\",\"type\":\"Grid\"},{\"attributes\":{\"callback\":null},\"id\":\"fd246d36-9f74-4910-a64e-a962bfe64b49\",\"type\":\"DataRange1d\"},{\"attributes\":{},\"id\":\"63d96b44-6190-4cb7-af66-56df61a0000f\",\"type\":\"BasicTickFormatter\"},{\"attributes\":{\"callback\":null},\"id\":\"db7d31f9-5be6-4b5c-987c-e8fe01500725\",\"type\":\"DataRange1d\"},{\"attributes\":{\"plot\":{\"id\":\"96bd9a96-36c0-412b-9ff0-54a436226d4c\",\"subtype\":\"Figure\",\"type\":\"Plot\"}},\"id\":\"b82f8426-4420-4c3f-898e-04fdf1586211\",\"type\":\"HelpTool\"},{\"attributes\":{\"bottom_units\":\"screen\",\"fill_alpha\":{\"value\":0.5},\"fill_color\":{\"value\":\"lightgrey\"},\"left_units\":\"screen\",\"level\":\"overlay\",\"line_alpha\":{\"value\":1.0},\"line_color\":{\"value\":\"black\"},\"line_dash\":[4,4],\"line_width\":{\"value\":2},\"plot\":null,\"render_mode\":\"css\",\"right_units\":\"screen\",\"top_units\":\"screen\"},\"id\":\"dcdc18dd-9808-41f3-b4cb-bc2797b1ba8d\",\"type\":\"BoxAnnotation\"},{\"attributes\":{\"line_color\":{\"value\":\"#2222aa\"},\"line_width\":{\"value\":3},\"x\":{\"field\":\"x\"},\"y\":{\"field\":\"y\"}},\"id\":\"c3ddf415-3ae0-4e86-b4a0-60387edb9838\",\"type\":\"Line\"},{\"attributes\":{},\"id\":\"f7d62b53-3c52-4020-bc46-8f77f40daf3c\",\"type\":\"BasicTicker\"},{\"attributes\":{},\"id\":\"c69a93a8-cfcf-488f-8b9d-57d9eb7c7c21\",\"type\":\"BasicTicker\"},{\"attributes\":{\"line_alpha\":{\"value\":0.1},\"line_color\":{\"value\":\"#1f77b4\"},\"line_width\":{\"value\":3},\"x\":{\"field\":\"x\"},\"y\":{\"field\":\"y\"}},\"id\":\"354b5b63-356c-46a9-b7c8-3085fd92b214\",\"type\":\"Line\"},{\"attributes\":{\"plot\":{\"id\":\"ac53af4e-d016-41cd-be82-dbab7f014a88\",\"subtype\":\"Figure\",\"type\":\"Plot\"}},\"id\":\"de39fe18-4004-4ce4-81bb-0f2ebadaa4dd\",\"type\":\"PanTool\"},{\"attributes\":{\"months\":[0,2,4,6,8,10]},\"id\":\"c45b7b48-a932-4ad7-bc50-803fbfef3971\",\"type\":\"MonthsTicker\"},{\"attributes\":{\"days\":[1,8,15,22]},\"id\":\"7a986fcc-0daf-42da-9eb8-e3a212630074\",\"type\":\"DaysTicker\"},{\"attributes\":{\"plot\":{\"id\":\"ac53af4e-d016-41cd-be82-dbab7f014a88\",\"subtype\":\"Figure\",\"type\":\"Plot\"}},\"id\":\"fb1f3fdc-243c-4b05-a4a3-415e380c8ab6\",\"type\":\"HelpTool\"},{\"attributes\":{\"callback\":null},\"id\":\"19273776-3fbc-454f-85f7-bdc26aee6600\",\"type\":\"DataRange1d\"},{\"attributes\":{},\"id\":\"796e969b-4934-4c5c-a4b5-5471cbc1c015\",\"type\":\"BasicTickFormatter\"},{\"attributes\":{\"overlay\":{\"id\":\"017ccb2e-f9c3-4fd4-8ae7-264935b97122\",\"type\":\"BoxAnnotation\"},\"plot\":{\"id\":\"96bd9a96-36c0-412b-9ff0-54a436226d4c\",\"subtype\":\"Figure\",\"type\":\"Plot\"}},\"id\":\"db877f14-0e98-4b35-b610-e903309c9245\",\"type\":\"BoxZoomTool\"},{\"attributes\":{\"base\":60,\"mantissas\":[1,2,5,10,15,20,30],\"max_interval\":1800000.0,\"min_interval\":1000.0,\"num_minor_ticks\":0},\"id\":\"036f3e97-1e61-4577-bd2a-2ba51ae59b04\",\"type\":\"AdaptiveTicker\"},{\"attributes\":{\"formatter\":{\"id\":\"2e5fd6dc-4351-4719-a186-9657537596a2\",\"type\":\"DatetimeTickFormatter\"},\"plot\":{\"id\":\"0566e70a-5e8f-4c14-88eb-53a64d85a85b\",\"subtype\":\"Figure\",\"type\":\"Plot\"},\"ticker\":{\"id\":\"545a92ba-7661-49fb-ac4d-ced7dfd8ed33\",\"type\":\"DatetimeTicker\"}},\"id\":\"7462e72b-38b2-4371-b4cb-2f82ef785023\",\"type\":\"DatetimeAxis\"},{\"attributes\":{\"data_source\":{\"id\":\"e3703718-8cb8-4938-bf78-9c29caa7e274\",\"type\":\"ColumnDataSource\"},\"glyph\":{\"id\":\"1ebd2b71-ad46-4666-b634-833534014ad1\",\"type\":\"Line\"},\"hover_glyph\":null,\"nonselection_glyph\":{\"id\":\"70f3389b-2a32-4882-be7f-c36284e99826\",\"type\":\"Line\"},\"selection_glyph\":null},\"id\":\"fe5b8dd7-3cd6-42db-abbd-fd32a5cd14ba\",\"type\":\"GlyphRenderer\"},{\"attributes\":{},\"id\":\"02c0633a-5332-4700-9772-086f73a9c450\",\"type\":\"BasicTickFormatter\"},{\"attributes\":{\"days\":[1,2,3,4,5,6,7,8,9,10,11,12,13,14,15,16,17,18,19,20,21,22,23,24,25,26,27,28,29,30,31]},\"id\":\"d244dde8-7b90-4c1a-a4a3-f85b74f99914\",\"type\":\"DaysTicker\"},{\"attributes\":{\"months\":[0,6]},\"id\":\"0539aa68-900a-42f7-8f58-2ce8fef834d6\",\"type\":\"MonthsTicker\"},{\"attributes\":{\"dimension\":1,\"plot\":{\"id\":\"96bd9a96-36c0-412b-9ff0-54a436226d4c\",\"subtype\":\"Figure\",\"type\":\"Plot\"},\"ticker\":{\"id\":\"1b5a43e4-28c2-4544-b17c-a8ceaa5d4775\",\"type\":\"BasicTicker\"}},\"id\":\"83b53f64-9bd2-4862-9a4a-28b244e8038e\",\"type\":\"Grid\"},{\"attributes\":{\"plot\":{\"id\":\"ac53af4e-d016-41cd-be82-dbab7f014a88\",\"subtype\":\"Figure\",\"type\":\"Plot\"}},\"id\":\"9b139dc2-f659-4603-b5f2-325642694b39\",\"type\":\"PreviewSaveTool\"},{\"attributes\":{\"plot\":{\"id\":\"3003cdb0-91b6-4d13-9b29-5a656526b51a\",\"subtype\":\"Figure\",\"type\":\"Plot\"}},\"id\":\"c8e10a4d-1a4c-488b-bdda-dd79d832d35d\",\"type\":\"ResizeTool\"},{\"attributes\":{\"callback\":null},\"id\":\"1f353340-8338-4f32-8ae4-d07f1cb80ba8\",\"type\":\"DataRange1d\"},{\"attributes\":{},\"id\":\"937ac12f-9c8c-434f-928c-376ec4040e66\",\"type\":\"DatetimeTickFormatter\"},{\"attributes\":{\"base\":60,\"mantissas\":[1,2,5,10,15,20,30],\"max_interval\":1800000.0,\"min_interval\":1000.0,\"num_minor_ticks\":0},\"id\":\"a92a880c-1c0f-4d87-b95b-cb9ce20dce0f\",\"type\":\"AdaptiveTicker\"},{\"attributes\":{\"days\":[1,15]},\"id\":\"31d7b51d-f72e-460f-a84a-e0e29d86359a\",\"type\":\"DaysTicker\"},{\"attributes\":{\"callback\":null,\"column_names\":[\"y\",\"x\"],\"data\":{\"x\":[1464912000000.0,1464825600000.0,1464739200000.0,1464652800000.0,1464307200000.0,1464220800000.0,1464134400000.0,1464048000000.0,1463961600000.0,1463702400000.0,1463616000000.0,1463529600000.0,1463443200000.0,1463356800000.0,1463097600000.0,1463011200000.0,1462924800000.0,1462838400000.0,1462752000000.0,1462492800000.0,1462406400000.0],\"y\":[722.34,730.4,734.15,735.72,732.66,724.12,725.27,720.09,704.24,709.74,700.32,706.63,706.23,716.49,710.83,713.31,715.29,723.18,712.9,711.12,701.43]}},\"id\":\"4e7235aa-c96c-4ccb-9c37-cbfe41170fa4\",\"type\":\"ColumnDataSource\"},{\"attributes\":{\"formatter\":{\"id\":\"02c0633a-5332-4700-9772-086f73a9c450\",\"type\":\"BasicTickFormatter\"},\"plot\":{\"id\":\"ac53af4e-d016-41cd-be82-dbab7f014a88\",\"subtype\":\"Figure\",\"type\":\"Plot\"},\"ticker\":{\"id\":\"4e1089ee-c5f0-483c-b28a-efb98b2e80aa\",\"type\":\"BasicTicker\"}},\"id\":\"20a01987-28b5-4894-b47a-9937838ae845\",\"type\":\"LinearAxis\"},{\"attributes\":{\"plot\":{\"id\":\"e50d9592-12dc-4194-8f95-69efe185c34b\",\"subtype\":\"Figure\",\"type\":\"Plot\"}},\"id\":\"6dede79b-f690-4b9a-856f-48480d9d79ea\",\"type\":\"PanTool\"},{\"attributes\":{\"plot\":{\"id\":\"ac53af4e-d016-41cd-be82-dbab7f014a88\",\"subtype\":\"Figure\",\"type\":\"Plot\"}},\"id\":\"7138e56e-7884-45de-9932-50b470eb9c9f\",\"type\":\"ResizeTool\"},{\"attributes\":{\"formatter\":{\"id\":\"66501ff8-d58b-40ff-a454-af7ad8c803b5\",\"type\":\"BasicTickFormatter\"},\"plot\":{\"id\":\"3003cdb0-91b6-4d13-9b29-5a656526b51a\",\"subtype\":\"Figure\",\"type\":\"Plot\"},\"ticker\":{\"id\":\"ddfeff5c-dd77-48f3-a288-155953fa0983\",\"type\":\"BasicTicker\"}},\"id\":\"46417087-1819-4ff3-938a-d5ac2dd130ca\",\"type\":\"LinearAxis\"},{\"attributes\":{\"plot\":{\"id\":\"3003cdb0-91b6-4d13-9b29-5a656526b51a\",\"subtype\":\"Figure\",\"type\":\"Plot\"}},\"id\":\"4a0c0c7f-59bb-49a0-9cb5-90914d0867b7\",\"type\":\"PreviewSaveTool\"},{\"attributes\":{\"callback\":null},\"id\":\"d97d7a69-71a4-454b-b2cc-eea18ff802d2\",\"type\":\"DataRange1d\"},{\"attributes\":{\"callback\":null},\"id\":\"78f3af4e-551c-4f41-8545-051fbaaf6ee3\",\"type\":\"DataRange1d\"},{\"attributes\":{\"callback\":null},\"id\":\"e756009f-61f3-4dc8-b3c6-618c083f07b2\",\"type\":\"DataRange1d\"},{\"attributes\":{},\"id\":\"01460cc2-7f96-4b8d-b1ba-1d267171f5d0\",\"type\":\"ToolEvents\"},{\"attributes\":{\"plot\":{\"id\":\"96bd9a96-36c0-412b-9ff0-54a436226d4c\",\"subtype\":\"Figure\",\"type\":\"Plot\"}},\"id\":\"1cec8999-f360-43fc-a422-600196dde1c4\",\"type\":\"ResizeTool\"},{\"attributes\":{},\"id\":\"41af0bb7-dab5-4eed-bd29-b64a7670c059\",\"type\":\"ToolEvents\"},{\"attributes\":{},\"id\":\"125accb5-2c30-4b94-b4ac-51f21b572827\",\"type\":\"BasicTicker\"},{\"attributes\":{\"plot\":{\"id\":\"0566e70a-5e8f-4c14-88eb-53a64d85a85b\",\"subtype\":\"Figure\",\"type\":\"Plot\"}},\"id\":\"78d303c1-cef0-4c98-b57c-3438e0eb35e4\",\"type\":\"ResizeTool\"},{\"attributes\":{\"callback\":null},\"id\":\"877c3510-6b44-4424-b6e7-2790a37b1d0f\",\"type\":\"DataRange1d\"},{\"attributes\":{\"plot\":{\"id\":\"3003cdb0-91b6-4d13-9b29-5a656526b51a\",\"subtype\":\"Figure\",\"type\":\"Plot\"}},\"id\":\"fe97140f-dc8b-4674-a35f-9e42762a97d0\",\"type\":\"PanTool\"},{\"attributes\":{\"data_source\":{\"id\":\"4e7235aa-c96c-4ccb-9c37-cbfe41170fa4\",\"type\":\"ColumnDataSource\"},\"glyph\":{\"id\":\"d74c6f97-44ca-41e0-8b20-fd148f594d57\",\"type\":\"Line\"},\"hover_glyph\":null,\"nonselection_glyph\":{\"id\":\"28e81a57-0510-4041-9e1b-3a875c12a721\",\"type\":\"Line\"},\"selection_glyph\":null},\"id\":\"0afb9d8f-396c-4597-8f2f-e630e0c21f1f\",\"type\":\"GlyphRenderer\"},{\"attributes\":{\"formatter\":{\"id\":\"63d96b44-6190-4cb7-af66-56df61a0000f\",\"type\":\"BasicTickFormatter\"},\"plot\":{\"id\":\"e50d9592-12dc-4194-8f95-69efe185c34b\",\"subtype\":\"Figure\",\"type\":\"Plot\"},\"ticker\":{\"id\":\"125accb5-2c30-4b94-b4ac-51f21b572827\",\"type\":\"BasicTicker\"}},\"id\":\"290dc5c4-a13b-42d3-84c3-61a3faa3df0c\",\"type\":\"LinearAxis\"},{\"attributes\":{\"plot\":{\"id\":\"e50d9592-12dc-4194-8f95-69efe185c34b\",\"subtype\":\"Figure\",\"type\":\"Plot\"}},\"id\":\"081ce399-abaa-4ae7-a848-81216df8d8ca\",\"type\":\"ResizeTool\"},{\"attributes\":{\"months\":[0,1,2,3,4,5,6,7,8,9,10,11]},\"id\":\"9837b0af-a7ba-487b-92be-b23852a9ad9f\",\"type\":\"MonthsTicker\"},{\"attributes\":{\"formatter\":{\"id\":\"4f714c48-0d26-4dd5-817e-b649b69327d8\",\"type\":\"BasicTickFormatter\"},\"plot\":{\"id\":\"3003cdb0-91b6-4d13-9b29-5a656526b51a\",\"subtype\":\"Figure\",\"type\":\"Plot\"},\"ticker\":{\"id\":\"f7d62b53-3c52-4020-bc46-8f77f40daf3c\",\"type\":\"BasicTicker\"}},\"id\":\"74b1df10-a132-47a7-b3b2-9e697c2184dc\",\"type\":\"LinearAxis\"},{\"attributes\":{},\"id\":\"53d63ce5-34ed-470b-a6b6-d78609705c5c\",\"type\":\"BasicTickFormatter\"},{\"attributes\":{\"plot\":{\"id\":\"3003cdb0-91b6-4d13-9b29-5a656526b51a\",\"subtype\":\"Figure\",\"type\":\"Plot\"}},\"id\":\"fdc044c5-0b1c-42ea-a014-62f6a8da1a70\",\"type\":\"WheelZoomTool\"},{\"attributes\":{\"base\":24,\"mantissas\":[1,2,4,6,8,12],\"max_interval\":43200000.0,\"min_interval\":3600000.0,\"num_minor_ticks\":0},\"id\":\"3c4f7dc4-7213-4848-85f3-4c9170409912\",\"type\":\"AdaptiveTicker\"},{\"attributes\":{\"dimension\":1,\"plot\":{\"id\":\"e50d9592-12dc-4194-8f95-69efe185c34b\",\"subtype\":\"Figure\",\"type\":\"Plot\"},\"ticker\":{\"id\":\"125accb5-2c30-4b94-b4ac-51f21b572827\",\"type\":\"BasicTicker\"}},\"id\":\"fed0b166-a0df-46be-ad50-4c69ec195fe5\",\"type\":\"Grid\"},{\"attributes\":{\"dimension\":1,\"plot\":{\"id\":\"ac53af4e-d016-41cd-be82-dbab7f014a88\",\"subtype\":\"Figure\",\"type\":\"Plot\"},\"ticker\":{\"id\":\"68757013-71b2-4646-bbea-c397e1d78a50\",\"type\":\"BasicTicker\"}},\"id\":\"188686de-f534-4e28-a8dd-fdab6aa9d9ce\",\"type\":\"Grid\"},{\"attributes\":{\"overlay\":{\"id\":\"dcdc18dd-9808-41f3-b4cb-bc2797b1ba8d\",\"type\":\"BoxAnnotation\"},\"plot\":{\"id\":\"e50d9592-12dc-4194-8f95-69efe185c34b\",\"subtype\":\"Figure\",\"type\":\"Plot\"}},\"id\":\"88148dbb-0e22-4b3c-a264-b08ba24387e6\",\"type\":\"BoxZoomTool\"},{\"attributes\":{\"overlay\":{\"id\":\"ca9f6e19-e7d1-4d2e-b7bd-0c43171e9dd7\",\"type\":\"BoxAnnotation\"},\"plot\":{\"id\":\"0566e70a-5e8f-4c14-88eb-53a64d85a85b\",\"subtype\":\"Figure\",\"type\":\"Plot\"}},\"id\":\"7bf20e1a-565c-4979-854b-5dc3ac52eec7\",\"type\":\"BoxZoomTool\"},{\"attributes\":{\"months\":[0,6]},\"id\":\"b9a87d92-955d-4b47-82fc-f6dc4420d808\",\"type\":\"MonthsTicker\"},{\"attributes\":{\"callback\":null},\"id\":\"43d73bf0-2bf8-4637-9bcf-8f9703eb8165\",\"type\":\"DataRange1d\"},{\"attributes\":{\"overlay\":{\"id\":\"517287da-864e-4962-b03f-95f04084c14d\",\"type\":\"BoxAnnotation\"},\"plot\":{\"id\":\"3003cdb0-91b6-4d13-9b29-5a656526b51a\",\"subtype\":\"Figure\",\"type\":\"Plot\"}},\"id\":\"1a03a9af-43a8-4e73-a85d-760bb6c9b6a6\",\"type\":\"BoxZoomTool\"},{\"attributes\":{\"days\":[1,4,7,10,13,16,19,22,25,28]},\"id\":\"c6efabb1-83c6-4113-9ada-b16084d8f914\",\"type\":\"DaysTicker\"},{\"attributes\":{\"max_interval\":500.0,\"num_minor_ticks\":0},\"id\":\"15db7278-5f10-4d21-827a-03ab6bd80f78\",\"type\":\"AdaptiveTicker\"},{\"attributes\":{\"months\":[0,4,8]},\"id\":\"e53cc800-5014-42c3-adba-873d736ab16d\",\"type\":\"MonthsTicker\"}],\"root_ids\":[\"ac53af4e-d016-41cd-be82-dbab7f014a88\",\"3003cdb0-91b6-4d13-9b29-5a656526b51a\",\"e50d9592-12dc-4194-8f95-69efe185c34b\",\"0566e70a-5e8f-4c14-88eb-53a64d85a85b\",\"96bd9a96-36c0-412b-9ff0-54a436226d4c\"]},\"title\":\"Bokeh Application\",\"version\":\"0.11.1\"}};\n",
       "            var render_items = [{\"docid\":\"0420b59f-de0f-4faa-a6fd-45567d66d202\",\"elementid\":\"113ead7d-7480-4ea3-a80f-3a0ac0560770\",\"modelid\":\"96bd9a96-36c0-412b-9ff0-54a436226d4c\",\"notebook_comms_target\":\"f64bfbcd-f516-4efc-bcc5-bf744f54cfda\"}];\n",
       "            \n",
       "            Bokeh.embed.embed_items(docs_json, render_items);\n",
       "        });\n",
       "      },\n",
       "      function(Bokeh) {\n",
       "      }\n",
       "    ];\n",
       "  \n",
       "    function run_inline_js() {\n",
       "      for (var i = 0; i < inline_js.length; i++) {\n",
       "        inline_js[i](window.Bokeh);\n",
       "      }\n",
       "    }\n",
       "  \n",
       "    if (window._bokeh_is_loading === 0) {\n",
       "      console.log(\"Bokeh: BokehJS loaded, going straight to plotting\");\n",
       "      run_inline_js();\n",
       "    } else {\n",
       "      load_libs(js_urls, function() {\n",
       "        console.log(\"Bokeh: BokehJS plotting callback run at\", now());\n",
       "        run_inline_js();\n",
       "      });\n",
       "    }\n",
       "  }(this));\n",
       "</script>"
      ]
     },
     "metadata": {},
     "output_type": "display_data"
    },
    {
     "data": {
      "text/html": [
       "<p><code>&lt;Bokeh Notebook handle for <strong>In[11]</strong>&gt;</code></p>"
      ],
      "text/plain": [
       "<bokeh.io._CommsHandle at 0x7f872f421e10>"
      ]
     },
     "execution_count": 11,
     "metadata": {},
     "output_type": "execute_result"
    }
   ],
   "source": [
    "p = figure(x_axis_type=\"datetime\")\n",
    "p.line(stocks['Date'], stocks['Close'])\n",
    "show(p)"
   ]
  }
 ],
 "metadata": {
  "kernelspec": {
   "display_name": "Python 2",
   "language": "python",
   "name": "python2"
  },
  "language_info": {
   "codemirror_mode": {
    "name": "ipython",
    "version": 2
   },
   "file_extension": ".py",
   "mimetype": "text/x-python",
   "name": "python",
   "nbconvert_exporter": "python",
   "pygments_lexer": "ipython2",
   "version": "2.7.11"
  }
 },
 "nbformat": 4,
 "nbformat_minor": 0
}
